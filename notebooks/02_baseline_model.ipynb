{
 "cells": [
  {
   "cell_type": "code",
   "execution_count": 1,
   "id": "c9e21bdb-b703-4fe3-b19c-c91d6396d80b",
   "metadata": {},
   "outputs": [],
   "source": [
    "# Import Libraries\n",
    "from init import *  # Adds project root to sys.path\n",
    "from src import config\n",
    "from src.utils import log_score\n",
    "\n",
    "import pandas as pd\n",
    "import numpy as np\n",
    "from catboost import CatBoostRegressor, Pool\n",
    "from sklearn.model_selection import train_test_split\n",
    "from sklearn.metrics import mean_squared_log_error"
   ]
  },
  {
   "cell_type": "code",
   "execution_count": 2,
   "id": "93fe6616-0ea1-45b8-9dc6-9b6b8a9b12d1",
   "metadata": {},
   "outputs": [],
   "source": [
    "# Load data\n",
    "train = pd.read_csv(config.DATA_PATH + 'raw/train.csv')\n",
    "test = pd.read_csv(config.DATA_PATH + 'raw/test.csv')\n",
    "sample = pd.read_csv(config.DATA_PATH + 'raw/sample_submission.csv')"
   ]
  },
  {
   "cell_type": "code",
   "execution_count": 3,
   "id": "b21a7889-e2a4-4dfc-a5e5-10a05178df51",
   "metadata": {},
   "outputs": [],
   "source": [
    "# Data Preaparting\n",
    "X = train.drop(columns=[\"id\", \"Calories\"]) # Drop Target and ID\n",
    "y = train[\"Calories\"] # Define Target\n",
    "\n",
    "X_test = test.drop(columns=[\"id\"]) # Drop ID from Test\n",
    "cat_features = [\"Sex\"] # Identify Categorical features"
   ]
  },
  {
   "cell_type": "code",
   "execution_count": 4,
   "id": "a35634de-8afb-4611-bec3-810fcda8d2fd",
   "metadata": {},
   "outputs": [],
   "source": [
    "# Train and validation split\n",
    "X_train, X_val, y_train, y_val = train_test_split(X, y, test_size=0.2, random_state=42)"
   ]
  },
  {
   "cell_type": "code",
   "execution_count": 5,
   "id": "2ce85611-14e4-48f5-baff-5b1931cb641b",
   "metadata": {},
   "outputs": [],
   "source": [
    "# Create CatBoost pools (better performance)\n",
    "train_pool = Pool(X_train, y_train, cat_features=cat_features)\n",
    "val_pool = Pool(X_val, y_val, cat_features=cat_features)\n",
    "test_pool = Pool(X_test, cat_features=cat_features)"
   ]
  },
  {
   "cell_type": "code",
   "execution_count": 7,
   "id": "f771bbe4-7cb0-4f36-8ea7-2e66017190d1",
   "metadata": {},
   "outputs": [
    {
     "name": "stdout",
     "output_type": "stream",
     "text": [
      "✅ Model trained.\n"
     ]
    }
   ],
   "source": [
    "# Initialize and train CatBoost baseline model\n",
    "model = CatBoostRegressor(random_state=42, verbose=0, train_dir=\"../logs/catboost_logs\")\n",
    "model.fit(train_pool)\n",
    "print(\"✅ Model trained.\")"
   ]
  },
  {
   "cell_type": "code",
   "execution_count": 8,
   "id": "f354992b-ec3f-44ec-a323-458397412383",
   "metadata": {},
   "outputs": [
    {
     "name": "stdout",
     "output_type": "stream",
     "text": [
      "✅ Baseline CatBoost RMSLE: 0.06168\n"
     ]
    }
   ],
   "source": [
    "# Evaluate on validation set\n",
    "y_val_pred = model.predict(val_pool)\n",
    "rmsle = np.sqrt(mean_squared_log_error(y_val, y_val_pred))\n",
    "print(f\"✅ Baseline CatBoost RMSLE: {rmsle:.5f}\")"
   ]
  },
  {
   "cell_type": "code",
   "execution_count": 9,
   "id": "e4bcbfa2-51de-46ef-8cde-08299fdc30ad",
   "metadata": {},
   "outputs": [
    {
     "name": "stdout",
     "output_type": "stream",
     "text": [
      "✅ Submission saved: ../outputs/submission_baseline_catboost.csv\n"
     ]
    }
   ],
   "source": [
    "# Save submission\n",
    "sample[\"Calories\"] = model.predict(test_pool)\n",
    "submission_path = \"../outputs/submission_baseline_catboost.csv\"\n",
    "sample.to_csv(submission_path, index=False)\n",
    "print(f\"✅ Submission saved: {submission_path}\")"
   ]
  },
  {
   "cell_type": "code",
   "execution_count": 10,
   "id": "4d89ec58-d257-47a2-8b42-5306fddfbe80",
   "metadata": {},
   "outputs": [
    {
     "name": "stdout",
     "output_type": "stream",
     "text": [
      "✅ Logged: CatBoost Baseline | Score: 0.06168\n"
     ]
    }
   ],
   "source": [
    "# Log Metrics\n",
    "log_score(\n",
    "    model_name=\"CatBoost Baseline\",\n",
    "    score=rmsle,\n",
    "    notes=\"No feature engineering, default params\"\n",
    ")"
   ]
  }
 ],
 "metadata": {
  "kernelspec": {
   "display_name": "Python (data-lab)",
   "language": "python",
   "name": "data-lab"
  },
  "language_info": {
   "codemirror_mode": {
    "name": "ipython",
    "version": 3
   },
   "file_extension": ".py",
   "mimetype": "text/x-python",
   "name": "python",
   "nbconvert_exporter": "python",
   "pygments_lexer": "ipython3",
   "version": "3.12.3"
  }
 },
 "nbformat": 4,
 "nbformat_minor": 5
}
