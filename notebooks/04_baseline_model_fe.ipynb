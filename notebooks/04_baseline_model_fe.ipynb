{
 "cells": [
  {
   "cell_type": "code",
   "execution_count": 3,
   "id": "5ef61ffc-a7ca-4de0-aef9-c7ac46e3f853",
   "metadata": {},
   "outputs": [],
   "source": [
    "# Import Libraries\n",
    "from init import *  # Adds project root to sys.path\n",
    "from src import config\n",
    "from src.utils import log_score\n",
    "\n",
    "import pandas as pd\n",
    "import numpy as np\n",
    "from catboost import CatBoostRegressor, Pool\n",
    "from sklearn.model_selection import train_test_split\n",
    "from sklearn.metrics import mean_squared_log_error"
   ]
  },
  {
   "cell_type": "code",
   "execution_count": 4,
   "id": "14892da4-3a30-4a17-9aec-ff84f83d492f",
   "metadata": {},
   "outputs": [],
   "source": [
    "# Load data\n",
    "train = pd.read_pickle(config.DATA_PATH + \"processed/X_train_fe.pkl\")\n",
    "test = pd.read_pickle(config.DATA_PATH + \"processed/X_test_fe.pkl\")\n",
    "sample = pd.read_csv(config.DATA_PATH + 'raw/sample_submission.csv')"
   ]
  },
  {
   "cell_type": "code",
   "execution_count": 7,
   "id": "392afd84-0940-4991-b71e-2727976da7f1",
   "metadata": {},
   "outputs": [],
   "source": [
    "# Data Preaparting\n",
    "X = train.drop(columns=[\"Calories\"]) # Drop Target and ID\n",
    "y = train[\"Calories\"] # Define Target\n",
    "\n",
    "cat_features = [\"Sex\"] # Identify Categorical features"
   ]
  },
  {
   "cell_type": "code",
   "execution_count": 8,
   "id": "37cf92f8-6eb9-4fd2-90af-279a328d3681",
   "metadata": {},
   "outputs": [],
   "source": [
    "# Train and validation split\n",
    "X_train, X_val, y_train, y_val = train_test_split(X, y, test_size=0.2, random_state=42)"
   ]
  },
  {
   "cell_type": "code",
   "execution_count": 9,
   "id": "b84a15b0-d4ff-403e-9b37-2c79d7413be5",
   "metadata": {},
   "outputs": [],
   "source": [
    "# Create CatBoost pools (better performance)\n",
    "train_pool = Pool(X_train, y_train, cat_features=cat_features)\n",
    "val_pool = Pool(X_val, y_val, cat_features=cat_features)\n",
    "test_pool = Pool(X_test, cat_features=cat_features)"
   ]
  },
  {
   "cell_type": "code",
   "execution_count": 10,
   "id": "4886eb00-704d-4c18-bfb0-0570b7b177ca",
   "metadata": {},
   "outputs": [
    {
     "name": "stdout",
     "output_type": "stream",
     "text": [
      "✅ Model trained.\n"
     ]
    }
   ],
   "source": [
    "# Initialize and train CatBoost baseline model\n",
    "model = CatBoostRegressor(random_state=42, verbose=0, train_dir=\"../logs/catboost_logs\")\n",
    "model.fit(train_pool)\n",
    "print(\"✅ Model trained.\")"
   ]
  },
  {
   "cell_type": "code",
   "execution_count": 11,
   "id": "3a86c395-65de-4cd7-9b90-97381a2c5818",
   "metadata": {},
   "outputs": [
    {
     "name": "stdout",
     "output_type": "stream",
     "text": [
      "✅ Baseline CatBoost RMSLE: 0.06237\n"
     ]
    }
   ],
   "source": [
    "# Evaluate on validation set\n",
    "y_val_pred = model.predict(val_pool)\n",
    "rmsle = np.sqrt(mean_squared_log_error(y_val, y_val_pred))\n",
    "print(f\"✅ Baseline CatBoost RMSLE: {rmsle:.5f}\")"
   ]
  },
  {
   "cell_type": "code",
   "execution_count": 12,
   "id": "79358477-f02e-474f-8e9d-d1d4c9deab75",
   "metadata": {},
   "outputs": [
    {
     "name": "stdout",
     "output_type": "stream",
     "text": [
      "✅ Submission saved: ../outputs/submission_baseline_catboost_fe.csv\n"
     ]
    }
   ],
   "source": [
    "# Save submission\n",
    "sample[\"Calories\"] = model.predict(test_pool)\n",
    "submission_path = \"../outputs/submission_baseline_catboost_fe.csv\"\n",
    "sample.to_csv(submission_path, index=False)\n",
    "print(f\"✅ Submission saved: {submission_path}\")"
   ]
  },
  {
   "cell_type": "code",
   "execution_count": 13,
   "id": "bc95c6cb-6923-41e3-b12b-2fc8fbd0d121",
   "metadata": {},
   "outputs": [
    {
     "name": "stdout",
     "output_type": "stream",
     "text": [
      "✅ Logged: FE CatBoost Baseline | Score: 0.06237\n"
     ]
    }
   ],
   "source": [
    "# Log Metrics\n",
    "log_score(\n",
    "    model_name=\"FE CatBoost Baseline\",\n",
    "    score=rmsle,\n",
    "    notes=\"feature engineering, default params\"\n",
    ")"
   ]
  },
  {
   "cell_type": "code",
   "execution_count": 19,
   "id": "956dfa0e-ca5d-4301-bfa3-318d03b10e98",
   "metadata": {},
   "outputs": [
    {
     "data": {
      "text/html": [
       "<div>\n",
       "<style scoped>\n",
       "    .dataframe tbody tr th:only-of-type {\n",
       "        vertical-align: middle;\n",
       "    }\n",
       "\n",
       "    .dataframe tbody tr th {\n",
       "        vertical-align: top;\n",
       "    }\n",
       "\n",
       "    .dataframe thead th {\n",
       "        text-align: right;\n",
       "    }\n",
       "</style>\n",
       "<table border=\"1\" class=\"dataframe\">\n",
       "  <thead>\n",
       "    <tr style=\"text-align: right;\">\n",
       "      <th></th>\n",
       "      <th>Feature</th>\n",
       "      <th>Importance</th>\n",
       "    </tr>\n",
       "  </thead>\n",
       "  <tbody>\n",
       "    <tr>\n",
       "      <th>10</th>\n",
       "      <td>Duration_HeartRate</td>\n",
       "      <td>67.960891</td>\n",
       "    </tr>\n",
       "    <tr>\n",
       "      <th>1</th>\n",
       "      <td>Age</td>\n",
       "      <td>11.106664</td>\n",
       "    </tr>\n",
       "    <tr>\n",
       "      <th>5</th>\n",
       "      <td>Heart_Rate</td>\n",
       "      <td>8.178572</td>\n",
       "    </tr>\n",
       "    <tr>\n",
       "      <th>8</th>\n",
       "      <td>Duration_squared</td>\n",
       "      <td>6.007790</td>\n",
       "    </tr>\n",
       "    <tr>\n",
       "      <th>0</th>\n",
       "      <td>Sex</td>\n",
       "      <td>1.963100</td>\n",
       "    </tr>\n",
       "    <tr>\n",
       "      <th>4</th>\n",
       "      <td>Duration</td>\n",
       "      <td>1.419432</td>\n",
       "    </tr>\n",
       "    <tr>\n",
       "      <th>9</th>\n",
       "      <td>Duration_Weight</td>\n",
       "      <td>1.189932</td>\n",
       "    </tr>\n",
       "    <tr>\n",
       "      <th>11</th>\n",
       "      <td>Weight_Height_Ratio</td>\n",
       "      <td>0.854405</td>\n",
       "    </tr>\n",
       "    <tr>\n",
       "      <th>3</th>\n",
       "      <td>Weight</td>\n",
       "      <td>0.726958</td>\n",
       "    </tr>\n",
       "    <tr>\n",
       "      <th>12</th>\n",
       "      <td>HR_per_min</td>\n",
       "      <td>0.351597</td>\n",
       "    </tr>\n",
       "    <tr>\n",
       "      <th>2</th>\n",
       "      <td>Height</td>\n",
       "      <td>0.094855</td>\n",
       "    </tr>\n",
       "    <tr>\n",
       "      <th>6</th>\n",
       "      <td>Body_Temp</td>\n",
       "      <td>0.070878</td>\n",
       "    </tr>\n",
       "    <tr>\n",
       "      <th>15</th>\n",
       "      <td>Age_Group_Senior</td>\n",
       "      <td>0.048380</td>\n",
       "    </tr>\n",
       "    <tr>\n",
       "      <th>7</th>\n",
       "      <td>BMI</td>\n",
       "      <td>0.013660</td>\n",
       "    </tr>\n",
       "    <tr>\n",
       "      <th>13</th>\n",
       "      <td>Age_Group_Adult</td>\n",
       "      <td>0.006640</td>\n",
       "    </tr>\n",
       "    <tr>\n",
       "      <th>14</th>\n",
       "      <td>Age_Group_Mid-Age</td>\n",
       "      <td>0.006247</td>\n",
       "    </tr>\n",
       "  </tbody>\n",
       "</table>\n",
       "</div>"
      ],
      "text/plain": [
       "                Feature  Importance\n",
       "10   Duration_HeartRate   67.960891\n",
       "1                   Age   11.106664\n",
       "5            Heart_Rate    8.178572\n",
       "8      Duration_squared    6.007790\n",
       "0                   Sex    1.963100\n",
       "4              Duration    1.419432\n",
       "9       Duration_Weight    1.189932\n",
       "11  Weight_Height_Ratio    0.854405\n",
       "3                Weight    0.726958\n",
       "12           HR_per_min    0.351597\n",
       "2                Height    0.094855\n",
       "6             Body_Temp    0.070878\n",
       "15     Age_Group_Senior    0.048380\n",
       "7                   BMI    0.013660\n",
       "13      Age_Group_Adult    0.006640\n",
       "14    Age_Group_Mid-Age    0.006247"
      ]
     },
     "execution_count": 19,
     "metadata": {},
     "output_type": "execute_result"
    }
   ],
   "source": [
    "# Get all feature importances\n",
    "importances = model.get_feature_importance()\n",
    "features = X_train.columns\n",
    "\n",
    "# Create DataFrame for full view\n",
    "feat_imp = pd.DataFrame({\n",
    "    \"Feature\": features,\n",
    "    \"Importance\": importances\n",
    "}).sort_values(by=\"Importance\", ascending=False)\n",
    "\n",
    "# Display Top Features\n",
    "feat_imp.head(17)"
   ]
  },
  {
   "cell_type": "code",
   "execution_count": 21,
   "id": "0003d8a5-02e2-4759-b99c-80f89a3c6eb3",
   "metadata": {},
   "outputs": [],
   "source": [
    "# Remove very low-impact features\n",
    "low_impact = [\n",
    "    \"BMI\",\n",
    "    \"Height\",\n",
    "    \"Body_Temp\",\n",
    "    \"HR_per_min\",\n",
    "    \"Age_Group_Senior\",\n",
    "    \"Age_Group_Adult\",\n",
    "    \"Age_Group_Mid-Age\"\n",
    "]\n",
    "\n",
    "X_dropped = X.drop(columns=low_impact)"
   ]
  },
  {
   "cell_type": "code",
   "execution_count": 22,
   "id": "9f6f56fd-7846-44a1-96d7-0250ba52ed43",
   "metadata": {},
   "outputs": [],
   "source": [
    "# Train and validation split\n",
    "X_train, X_val, y_train, y_val = train_test_split(X_dropped, y, test_size=0.2, random_state=42)"
   ]
  },
  {
   "cell_type": "code",
   "execution_count": 23,
   "id": "fd00e0fe-7abf-4edd-b142-bc63a0e18b6a",
   "metadata": {},
   "outputs": [],
   "source": [
    "# Create CatBoost pools (better performance)\n",
    "train_pool = Pool(X_train, y_train, cat_features=cat_features)\n",
    "val_pool = Pool(X_val, y_val, cat_features=cat_features)\n",
    "test_pool = Pool(X_test, cat_features=cat_features)"
   ]
  },
  {
   "cell_type": "code",
   "execution_count": 24,
   "id": "842c8bf8-0152-4e08-9e74-ca8d1793fc7c",
   "metadata": {},
   "outputs": [
    {
     "name": "stdout",
     "output_type": "stream",
     "text": [
      "✅ Model trained.\n"
     ]
    }
   ],
   "source": [
    "# Initialize and train CatBoost baseline model\n",
    "model = CatBoostRegressor(random_state=42, verbose=0, train_dir=\"../logs/catboost_logs\")\n",
    "model.fit(train_pool)\n",
    "print(\"✅ Model trained.\")"
   ]
  },
  {
   "cell_type": "code",
   "execution_count": 25,
   "id": "465909db-1749-4f3a-b8cd-7381d3290117",
   "metadata": {},
   "outputs": [
    {
     "name": "stdout",
     "output_type": "stream",
     "text": [
      "✅ Baseline CatBoost RMSLE: 0.06198\n"
     ]
    }
   ],
   "source": [
    "# Evaluate on validation set\n",
    "y_val_pred = model.predict(val_pool)\n",
    "rmsle = np.sqrt(mean_squared_log_error(y_val, y_val_pred))\n",
    "print(f\"✅ FE Baseline CatBoost RMSLE: {rmsle:.5f}\")"
   ]
  },
  {
   "cell_type": "code",
   "execution_count": 26,
   "id": "4f275d0c-254a-46f8-8df8-fa8e1b671d63",
   "metadata": {},
   "outputs": [
    {
     "name": "stdout",
     "output_type": "stream",
     "text": [
      "✅ Submission saved: ../outputs/submission_baseline_catboost_fe_updated.csv\n"
     ]
    }
   ],
   "source": [
    "# Save submission\n",
    "sample[\"Calories\"] = model.predict(test_pool)\n",
    "submission_path = \"../outputs/submission_baseline_catboost_fe_updated.csv\"\n",
    "sample.to_csv(submission_path, index=False)\n",
    "print(f\"✅ Submission saved: {submission_path}\")"
   ]
  },
  {
   "cell_type": "code",
   "execution_count": 27,
   "id": "11accd09-072b-4e04-a7e1-a667f96441db",
   "metadata": {},
   "outputs": [
    {
     "name": "stdout",
     "output_type": "stream",
     "text": [
      "✅ Logged: FE CatBoost Baseline Updated | Score: 0.06198\n"
     ]
    }
   ],
   "source": [
    "# Log Metrics\n",
    "log_score(\n",
    "    model_name=\"FE CatBoost Baseline Updated\",\n",
    "    score=rmsle,\n",
    "    notes=\"feature engineering, removed low importance features, default params\"\n",
    ")"
   ]
  }
 ],
 "metadata": {
  "kernelspec": {
   "display_name": "Python (data-lab)",
   "language": "python",
   "name": "data-lab"
  },
  "language_info": {
   "codemirror_mode": {
    "name": "ipython",
    "version": 3
   },
   "file_extension": ".py",
   "mimetype": "text/x-python",
   "name": "python",
   "nbconvert_exporter": "python",
   "pygments_lexer": "ipython3",
   "version": "3.12.3"
  }
 },
 "nbformat": 4,
 "nbformat_minor": 5
}
