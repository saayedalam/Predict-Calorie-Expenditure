{
 "cells": [
  {
   "cell_type": "code",
   "execution_count": 2,
   "id": "22ac9359-adae-4ba0-82bd-3766b9ec2bdf",
   "metadata": {},
   "outputs": [],
   "source": [
    "# Import Libraries\n",
    "from init import *  # Adds project root to sys.path\n",
    "from src import config\n",
    "\n",
    "import pandas as pd\n",
    "import numpy as np\n",
    "from catboost import CatBoostRegressor\n",
    "from sklearn.metrics import mean_squared_log_error\n",
    "from sklearn.model_selection import train_test_split\n",
    "import optuna"
   ]
  },
  {
   "cell_type": "code",
   "execution_count": 3,
   "id": "4b3ed5cc-71ad-42e7-a25c-6b120f3f13c7",
   "metadata": {},
   "outputs": [],
   "source": [
    "# Load data\n",
    "train = pd.read_pickle(config.DATA_PATH + \"processed/X_train_fe.pkl\")\n",
    "test = pd.read_pickle(config.DATA_PATH + \"processed/X_test_fe.pkl\")\n",
    "sample = pd.read_csv(config.DATA_PATH + 'raw/sample_submission.csv')"
   ]
  },
  {
   "cell_type": "code",
   "execution_count": 4,
   "id": "4f713db2-8eb6-4dd5-9b13-5b98c6f85503",
   "metadata": {},
   "outputs": [],
   "source": [
    "# Data Preaparting\n",
    "X = train.drop(columns=[\"Calories\"]) # Drop Target and ID\n",
    "y = train[\"Calories\"] # Define Target\n",
    "\n",
    "cat_features = [\"Sex\"] # Identify Categorical features"
   ]
  },
  {
   "cell_type": "code",
   "execution_count": 5,
   "id": "389c2afe-5d87-47a2-8dc4-e1ce457a9a4f",
   "metadata": {},
   "outputs": [],
   "source": [
    "# Train/val split\n",
    "X_train, X_val, y_train, y_val = train_test_split(X, y, test_size=0.2, random_state=42)"
   ]
  },
  {
   "cell_type": "code",
   "execution_count": 6,
   "id": "3b795914-b984-4693-acbb-822cace1e098",
   "metadata": {},
   "outputs": [],
   "source": [
    "# Define all candidate features\n",
    "all_features = list(X.columns)  "
   ]
  },
  {
   "cell_type": "code",
   "execution_count": 9,
   "id": "2a534302-65ab-47f1-a345-f8523fce3e17",
   "metadata": {},
   "outputs": [],
   "source": [
    "# Optuna objective for feature selection\n",
    "def objective(trial):\n",
    "    selected_features = [\n",
    "        feature for feature in all_features\n",
    "        if trial.suggest_categorical(feature, [True, False])\n",
    "    ]\n",
    "\n",
    "    if len(selected_features) == 0:\n",
    "        return float(\"inf\")  # Skip trial if no features are selected\n",
    "\n",
    "    model = CatBoostRegressor(random_state=42, verbose=0)\n",
    "    model.fit(X_train[selected_features], y_train)\n",
    "    y_pred = model.predict(X_val[selected_features])\n",
    "    y_pred = np.clip(y_pred, 0, None) \n",
    "    rmsle = np.sqrt(mean_squared_log_error(y_val, y_pred))\n",
    "    return rmsle"
   ]
  },
  {
   "cell_type": "code",
   "execution_count": null,
   "id": "c35b1895-8e01-4d39-8623-9443f2a7d886",
   "metadata": {
    "scrolled": true
   },
   "outputs": [
    {
     "name": "stderr",
     "output_type": "stream",
     "text": [
      "[I 2025-05-25 17:39:06,289] A new study created in memory with name: no-name-e7827549-9079-4563-ae2c-e285c4bca79e\n",
      "[I 2025-05-25 17:39:36,759] Trial 0 finished with value: 0.09116449427112001 and parameters: {'Sex': True, 'Age': True, 'Height': False, 'Weight': False, 'Duration': False, 'Heart_Rate': False, 'Body_Temp': True, 'BMI': True, 'Duration_squared': False, 'Duration_Weight': True, 'Duration_HeartRate': False, 'Weight_Height_Ratio': True, 'HR_per_min': True, 'Age_Group_Adult': False, 'Age_Group_Mid-Age': False, 'Age_Group_Senior': False}. Best is trial 0 with value: 0.09116449427112001.\n",
      "[I 2025-05-25 17:40:03,468] Trial 1 finished with value: 0.09461636575095163 and parameters: {'Sex': False, 'Age': False, 'Height': False, 'Weight': True, 'Duration': True, 'Heart_Rate': True, 'Body_Temp': True, 'BMI': True, 'Duration_squared': True, 'Duration_Weight': False, 'Duration_HeartRate': False, 'Weight_Height_Ratio': False, 'HR_per_min': True, 'Age_Group_Adult': False, 'Age_Group_Mid-Age': True, 'Age_Group_Senior': True}. Best is trial 0 with value: 0.09116449427112001.\n",
      "[I 2025-05-25 17:40:34,573] Trial 2 finished with value: 0.12036960129162762 and parameters: {'Sex': True, 'Age': False, 'Height': True, 'Weight': False, 'Duration': False, 'Heart_Rate': True, 'Body_Temp': False, 'BMI': True, 'Duration_squared': True, 'Duration_Weight': False, 'Duration_HeartRate': True, 'Weight_Height_Ratio': False, 'HR_per_min': True, 'Age_Group_Adult': True, 'Age_Group_Mid-Age': False, 'Age_Group_Senior': False}. Best is trial 0 with value: 0.09116449427112001.\n",
      "[I 2025-05-25 17:41:06,480] Trial 3 finished with value: 0.08879411075892951 and parameters: {'Sex': True, 'Age': False, 'Height': False, 'Weight': False, 'Duration': False, 'Heart_Rate': True, 'Body_Temp': True, 'BMI': True, 'Duration_squared': False, 'Duration_Weight': False, 'Duration_HeartRate': True, 'Weight_Height_Ratio': True, 'HR_per_min': False, 'Age_Group_Adult': False, 'Age_Group_Mid-Age': True, 'Age_Group_Senior': True}. Best is trial 3 with value: 0.08879411075892951.\n",
      "[I 2025-05-25 17:41:37,484] Trial 4 finished with value: 0.06299183347296412 and parameters: {'Sex': True, 'Age': True, 'Height': True, 'Weight': False, 'Duration': True, 'Heart_Rate': False, 'Body_Temp': False, 'BMI': True, 'Duration_squared': False, 'Duration_Weight': False, 'Duration_HeartRate': True, 'Weight_Height_Ratio': True, 'HR_per_min': True, 'Age_Group_Adult': True, 'Age_Group_Mid-Age': True, 'Age_Group_Senior': False}. Best is trial 4 with value: 0.06299183347296412.\n",
      "[I 2025-05-25 17:42:07,924] Trial 5 finished with value: 0.2657970179596056 and parameters: {'Sex': True, 'Age': True, 'Height': False, 'Weight': False, 'Duration': False, 'Heart_Rate': False, 'Body_Temp': True, 'BMI': False, 'Duration_squared': False, 'Duration_Weight': False, 'Duration_HeartRate': False, 'Weight_Height_Ratio': True, 'HR_per_min': False, 'Age_Group_Adult': False, 'Age_Group_Mid-Age': False, 'Age_Group_Senior': False}. Best is trial 4 with value: 0.06299183347296412.\n",
      "[I 2025-05-25 17:42:43,338] Trial 6 finished with value: 0.07145721240684301 and parameters: {'Sex': False, 'Age': True, 'Height': False, 'Weight': True, 'Duration': False, 'Heart_Rate': True, 'Body_Temp': True, 'BMI': True, 'Duration_squared': False, 'Duration_Weight': True, 'Duration_HeartRate': False, 'Weight_Height_Ratio': True, 'HR_per_min': False, 'Age_Group_Adult': False, 'Age_Group_Mid-Age': False, 'Age_Group_Senior': True}. Best is trial 4 with value: 0.06299183347296412.\n",
      "[I 2025-05-25 17:43:20,102] Trial 7 finished with value: 0.17322001009456894 and parameters: {'Sex': True, 'Age': False, 'Height': False, 'Weight': False, 'Duration': True, 'Heart_Rate': False, 'Body_Temp': False, 'BMI': True, 'Duration_squared': True, 'Duration_Weight': False, 'Duration_HeartRate': False, 'Weight_Height_Ratio': False, 'HR_per_min': False, 'Age_Group_Adult': False, 'Age_Group_Mid-Age': False, 'Age_Group_Senior': False}. Best is trial 4 with value: 0.06299183347296412.\n",
      "[I 2025-05-25 17:43:51,641] Trial 8 finished with value: 0.11933398612563643 and parameters: {'Sex': False, 'Age': False, 'Height': False, 'Weight': True, 'Duration': True, 'Heart_Rate': False, 'Body_Temp': True, 'BMI': True, 'Duration_squared': True, 'Duration_Weight': True, 'Duration_HeartRate': False, 'Weight_Height_Ratio': False, 'HR_per_min': True, 'Age_Group_Adult': True, 'Age_Group_Mid-Age': False, 'Age_Group_Senior': True}. Best is trial 4 with value: 0.06299183347296412.\n",
      "[I 2025-05-25 17:44:23,290] Trial 9 finished with value: 0.08307426465275271 and parameters: {'Sex': False, 'Age': False, 'Height': True, 'Weight': False, 'Duration': True, 'Heart_Rate': False, 'Body_Temp': False, 'BMI': False, 'Duration_squared': False, 'Duration_Weight': True, 'Duration_HeartRate': True, 'Weight_Height_Ratio': False, 'HR_per_min': False, 'Age_Group_Adult': True, 'Age_Group_Mid-Age': True, 'Age_Group_Senior': True}. Best is trial 4 with value: 0.06299183347296412.\n",
      "[I 2025-05-25 17:44:54,801] Trial 10 finished with value: 0.06308103690898056 and parameters: {'Sex': True, 'Age': True, 'Height': True, 'Weight': True, 'Duration': True, 'Heart_Rate': False, 'Body_Temp': False, 'BMI': False, 'Duration_squared': False, 'Duration_Weight': False, 'Duration_HeartRate': True, 'Weight_Height_Ratio': True, 'HR_per_min': True, 'Age_Group_Adult': True, 'Age_Group_Mid-Age': True, 'Age_Group_Senior': False}. Best is trial 4 with value: 0.06299183347296412.\n",
      "[I 2025-05-25 17:45:28,188] Trial 11 finished with value: 0.06308103690898056 and parameters: {'Sex': True, 'Age': True, 'Height': True, 'Weight': True, 'Duration': True, 'Heart_Rate': False, 'Body_Temp': False, 'BMI': False, 'Duration_squared': False, 'Duration_Weight': False, 'Duration_HeartRate': True, 'Weight_Height_Ratio': True, 'HR_per_min': True, 'Age_Group_Adult': True, 'Age_Group_Mid-Age': True, 'Age_Group_Senior': False}. Best is trial 4 with value: 0.06299183347296412.\n",
      "[I 2025-05-25 17:46:07,213] Trial 12 finished with value: 0.06308103690898056 and parameters: {'Sex': True, 'Age': True, 'Height': True, 'Weight': True, 'Duration': True, 'Heart_Rate': False, 'Body_Temp': False, 'BMI': False, 'Duration_squared': False, 'Duration_Weight': False, 'Duration_HeartRate': True, 'Weight_Height_Ratio': True, 'HR_per_min': True, 'Age_Group_Adult': True, 'Age_Group_Mid-Age': True, 'Age_Group_Senior': False}. Best is trial 4 with value: 0.06299183347296412.\n",
      "[I 2025-05-25 17:46:44,433] Trial 13 finished with value: 0.06308103690898056 and parameters: {'Sex': True, 'Age': True, 'Height': True, 'Weight': True, 'Duration': True, 'Heart_Rate': False, 'Body_Temp': False, 'BMI': False, 'Duration_squared': False, 'Duration_Weight': False, 'Duration_HeartRate': True, 'Weight_Height_Ratio': True, 'HR_per_min': True, 'Age_Group_Adult': True, 'Age_Group_Mid-Age': True, 'Age_Group_Senior': False}. Best is trial 4 with value: 0.06299183347296412.\n",
      "[I 2025-05-25 17:47:17,617] Trial 14 finished with value: 0.0624605300010995 and parameters: {'Sex': True, 'Age': True, 'Height': True, 'Weight': False, 'Duration': True, 'Heart_Rate': False, 'Body_Temp': False, 'BMI': False, 'Duration_squared': False, 'Duration_Weight': False, 'Duration_HeartRate': True, 'Weight_Height_Ratio': True, 'HR_per_min': True, 'Age_Group_Adult': True, 'Age_Group_Mid-Age': True, 'Age_Group_Senior': False}. Best is trial 14 with value: 0.0624605300010995.\n",
      "[I 2025-05-25 17:47:51,032] Trial 15 finished with value: 0.0624605300010995 and parameters: {'Sex': True, 'Age': True, 'Height': True, 'Weight': False, 'Duration': True, 'Heart_Rate': False, 'Body_Temp': False, 'BMI': False, 'Duration_squared': False, 'Duration_Weight': False, 'Duration_HeartRate': True, 'Weight_Height_Ratio': True, 'HR_per_min': True, 'Age_Group_Adult': True, 'Age_Group_Mid-Age': True, 'Age_Group_Senior': False}. Best is trial 14 with value: 0.0624605300010995.\n",
      "[I 2025-05-25 17:48:22,684] Trial 16 finished with value: 0.0624605300010995 and parameters: {'Sex': True, 'Age': True, 'Height': True, 'Weight': False, 'Duration': True, 'Heart_Rate': False, 'Body_Temp': False, 'BMI': False, 'Duration_squared': False, 'Duration_Weight': False, 'Duration_HeartRate': True, 'Weight_Height_Ratio': True, 'HR_per_min': True, 'Age_Group_Adult': True, 'Age_Group_Mid-Age': True, 'Age_Group_Senior': False}. Best is trial 14 with value: 0.0624605300010995.\n",
      "[I 2025-05-25 17:48:54,124] Trial 17 finished with value: 0.0624605300010995 and parameters: {'Sex': True, 'Age': True, 'Height': True, 'Weight': False, 'Duration': True, 'Heart_Rate': False, 'Body_Temp': False, 'BMI': False, 'Duration_squared': False, 'Duration_Weight': False, 'Duration_HeartRate': True, 'Weight_Height_Ratio': True, 'HR_per_min': True, 'Age_Group_Adult': True, 'Age_Group_Mid-Age': True, 'Age_Group_Senior': False}. Best is trial 14 with value: 0.0624605300010995.\n",
      "[I 2025-05-25 17:49:29,366] Trial 18 finished with value: 0.0700629002517767 and parameters: {'Sex': False, 'Age': True, 'Height': True, 'Weight': False, 'Duration': True, 'Heart_Rate': True, 'Body_Temp': False, 'BMI': False, 'Duration_squared': True, 'Duration_Weight': True, 'Duration_HeartRate': True, 'Weight_Height_Ratio': True, 'HR_per_min': True, 'Age_Group_Adult': True, 'Age_Group_Mid-Age': True, 'Age_Group_Senior': False}. Best is trial 14 with value: 0.0624605300010995.\n",
      "[I 2025-05-25 17:50:00,779] Trial 19 finished with value: 0.0624605300010995 and parameters: {'Sex': True, 'Age': True, 'Height': True, 'Weight': False, 'Duration': True, 'Heart_Rate': False, 'Body_Temp': False, 'BMI': False, 'Duration_squared': False, 'Duration_Weight': False, 'Duration_HeartRate': True, 'Weight_Height_Ratio': True, 'HR_per_min': True, 'Age_Group_Adult': True, 'Age_Group_Mid-Age': True, 'Age_Group_Senior': False}. Best is trial 14 with value: 0.0624605300010995.\n",
      "[I 2025-05-25 17:50:32,412] Trial 20 finished with value: 0.0624605300010995 and parameters: {'Sex': True, 'Age': True, 'Height': True, 'Weight': False, 'Duration': True, 'Heart_Rate': False, 'Body_Temp': False, 'BMI': False, 'Duration_squared': False, 'Duration_Weight': False, 'Duration_HeartRate': True, 'Weight_Height_Ratio': True, 'HR_per_min': True, 'Age_Group_Adult': True, 'Age_Group_Mid-Age': True, 'Age_Group_Senior': False}. Best is trial 14 with value: 0.0624605300010995.\n",
      "[I 2025-05-25 17:51:03,909] Trial 21 finished with value: 0.0624605300010995 and parameters: {'Sex': True, 'Age': True, 'Height': True, 'Weight': False, 'Duration': True, 'Heart_Rate': False, 'Body_Temp': False, 'BMI': False, 'Duration_squared': False, 'Duration_Weight': False, 'Duration_HeartRate': True, 'Weight_Height_Ratio': True, 'HR_per_min': True, 'Age_Group_Adult': True, 'Age_Group_Mid-Age': True, 'Age_Group_Senior': False}. Best is trial 14 with value: 0.0624605300010995.\n",
      "[I 2025-05-25 17:51:35,528] Trial 22 finished with value: 0.0624605300010995 and parameters: {'Sex': True, 'Age': True, 'Height': True, 'Weight': False, 'Duration': True, 'Heart_Rate': False, 'Body_Temp': False, 'BMI': False, 'Duration_squared': False, 'Duration_Weight': False, 'Duration_HeartRate': True, 'Weight_Height_Ratio': True, 'HR_per_min': True, 'Age_Group_Adult': True, 'Age_Group_Mid-Age': True, 'Age_Group_Senior': False}. Best is trial 14 with value: 0.0624605300010995.\n",
      "[I 2025-05-25 17:52:07,122] Trial 23 finished with value: 0.0624605300010995 and parameters: {'Sex': True, 'Age': True, 'Height': True, 'Weight': False, 'Duration': True, 'Heart_Rate': False, 'Body_Temp': False, 'BMI': False, 'Duration_squared': False, 'Duration_Weight': False, 'Duration_HeartRate': True, 'Weight_Height_Ratio': True, 'HR_per_min': True, 'Age_Group_Adult': True, 'Age_Group_Mid-Age': True, 'Age_Group_Senior': False}. Best is trial 14 with value: 0.0624605300010995.\n",
      "[I 2025-05-25 17:52:38,447] Trial 24 finished with value: 0.0624605300010995 and parameters: {'Sex': True, 'Age': True, 'Height': True, 'Weight': False, 'Duration': True, 'Heart_Rate': False, 'Body_Temp': False, 'BMI': False, 'Duration_squared': False, 'Duration_Weight': False, 'Duration_HeartRate': True, 'Weight_Height_Ratio': True, 'HR_per_min': True, 'Age_Group_Adult': True, 'Age_Group_Mid-Age': True, 'Age_Group_Senior': False}. Best is trial 14 with value: 0.0624605300010995.\n",
      "[I 2025-05-25 17:53:11,654] Trial 25 finished with value: 0.0624605300010995 and parameters: {'Sex': True, 'Age': True, 'Height': True, 'Weight': False, 'Duration': True, 'Heart_Rate': False, 'Body_Temp': False, 'BMI': False, 'Duration_squared': False, 'Duration_Weight': False, 'Duration_HeartRate': True, 'Weight_Height_Ratio': True, 'HR_per_min': True, 'Age_Group_Adult': True, 'Age_Group_Mid-Age': True, 'Age_Group_Senior': False}. Best is trial 14 with value: 0.0624605300010995.\n"
     ]
    }
   ],
   "source": [
    "# Run Optuna\n",
    "study = optuna.create_study(direction=\"minimize\")\n",
    "study.optimize(objective, n_trials=50)"
   ]
  },
  {
   "cell_type": "code",
   "execution_count": null,
   "id": "6f1403ba-16ca-424e-8347-6a6d4c72c451",
   "metadata": {},
   "outputs": [],
   "source": [
    "# Best result\n",
    "print(f\"\\nBest RMSLE: {study.best_value:.5f}\")\n",
    "best_features = [f for f in all_features if study.best_trial.params[f]]\n",
    "print(\"Selected features:\", best_features)"
   ]
  },
  {
   "cell_type": "code",
   "execution_count": null,
   "id": "364505a8-959e-4395-85c5-f18ee7c3b728",
   "metadata": {},
   "outputs": [],
   "source": [
    "# === Optional: Retrain final model on best subset ===\n",
    "model = CatBoostRegressor(random_state=42, verbose=0)\n",
    "model.fit(X_train[best_features], y_train)\n",
    "y_val_pred = model.predict(X_val[best_features])\n",
    "rmsle_final = np.sqrt(mean_squared_log_error(y_val, y_val_pred))\n",
    "print(f\"\\nFinal RMSLE with best feature subset: {rmsle_final:.5f}\")"
   ]
  },
  {
   "cell_type": "code",
   "execution_count": null,
   "id": "4a26c08a-1400-4106-9a2f-1fabf7016bc8",
   "metadata": {},
   "outputs": [],
   "source": [
    "log_score(\n",
    "    model_name=\"CatBoost + Optuna FS\",\n",
    "    score=rmsle_final,\n",
    "    notes=\"Feature subset selected using Optuna, default CatBoost params\"\n",
    ")\n"
   ]
  }
 ],
 "metadata": {
  "kernelspec": {
   "display_name": "Python (data-lab)",
   "language": "python",
   "name": "data-lab"
  },
  "language_info": {
   "codemirror_mode": {
    "name": "ipython",
    "version": 3
   },
   "file_extension": ".py",
   "mimetype": "text/x-python",
   "name": "python",
   "nbconvert_exporter": "python",
   "pygments_lexer": "ipython3",
   "version": "3.12.3"
  }
 },
 "nbformat": 4,
 "nbformat_minor": 5
}
